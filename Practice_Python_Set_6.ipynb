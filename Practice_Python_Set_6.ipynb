{
 "cells": [
  {
   "cell_type": "code",
   "execution_count": 7,
   "id": "87360125-078b-4f1e-b3c4-808931aa4ac7",
   "metadata": {},
   "outputs": [
    {
     "name": "stdout",
     "output_type": "stream",
     "text": [
      "2\n",
      "4\n",
      "6\n",
      "8\n",
      "10\n",
      "12\n",
      "14\n",
      "16\n",
      "18\n",
      "20\n"
     ]
    }
   ],
   "source": [
    "# Q1. Write a program that prints the first 10 even numbers using a for loop\n",
    "\n",
    "for x in range(2,21,2):\n",
    "    print(x)\n",
    "\n",
    "        "
   ]
  },
  {
   "cell_type": "code",
   "execution_count": 9,
   "id": "d8575a54-5843-44a3-8fcf-8f07945029b0",
   "metadata": {},
   "outputs": [
    {
     "name": "stdout",
     "output_type": "stream",
     "text": [
      "olleH\n",
      "dlroW\n",
      "nohtyP\n",
      "IAnepO\n"
     ]
    }
   ],
   "source": [
    "# Q2. Write a program that takes a list of strings and prints out each string in reverse order using a for loop\n",
    "\n",
    "def print_strings_reverse(strings):\n",
    "    for string in strings:\n",
    "        reversed_string = string[::-1]\n",
    "        print(reversed_string)\n",
    "\n",
    "# Example usage\n",
    "string_list = [\"Hello\", \"World\", \"Python\", \"OpenAI\"]\n",
    "print_strings_reverse(string_list)\n"
   ]
  },
  {
   "cell_type": "code",
   "execution_count": 16,
   "id": "672bf8b7-e5b6-40a4-8afe-0fdb6523a4a4",
   "metadata": {},
   "outputs": [
    {
     "name": "stdout",
     "output_type": "stream",
     "text": [
      " 5 x 1 = 5\n",
      " 5 x 2 = 10\n",
      " 5 x 3 = 15\n",
      " 5 x 4 = 20\n",
      " 5 x 5 = 25\n",
      " 5 x 6 = 30\n",
      " 5 x 7 = 35\n",
      " 5 x 8 = 40\n",
      " 5 x 9 = 45\n",
      " 5 x 10 = 50\n"
     ]
    }
   ],
   "source": [
    "# Q3. Write a program that prints the multiplication table of a given number using a for loop.\n",
    "\n",
    "\n",
    "def table(number):\n",
    "    for i in range(1 ,11):\n",
    "        result = number * i\n",
    "        print(f\" {number} x {i} = {result}\") \n",
    "    \n",
    "number = 5\n",
    "table(number)"
   ]
  },
  {
   "cell_type": "code",
   "execution_count": 34,
   "id": "a29304ef-354a-4d48-9c21-532c7ab8f68f",
   "metadata": {},
   "outputs": [
    {
     "name": "stdout",
     "output_type": "stream",
     "text": [
      "Enter the sum:15\n"
     ]
    }
   ],
   "source": [
    "# Q4. Write a program that takes a list of integers as input and returns the sum of all the numbers in the list \n",
    "# using a for loop.\n",
    "\n",
    "def sum(numbers):\n",
    "    total = 0\n",
    "    for number in numbers:\n",
    "      total += number\n",
    "    return total\n",
    "\n",
    "number_list = [1,2,3,4,5]\n",
    "total_sum = sum(number_list)\n",
    "print(f\"Enter the sum:{total_sum}\")"
   ]
  },
  {
   "cell_type": "code",
   "execution_count": 35,
   "id": "aa53d04a-bf3f-4992-9900-ff330b34985c",
   "metadata": {},
   "outputs": [
    {
     "name": "stdin",
     "output_type": "stream",
     "text": [
      "Enter a positive integer:  15\n"
     ]
    },
    {
     "name": "stdout",
     "output_type": "stream",
     "text": [
      "Prime numbers:\n",
      "2\n",
      "3\n",
      "5\n",
      "7\n",
      "11\n",
      "13\n"
     ]
    }
   ],
   "source": [
    "# Q5. Write a program that prompts the user for a positive integer and then prints out all the prime \n",
    "# numbers up to that number using a for loop\n",
    "\n",
    "def is_prime(number):\n",
    "    if number < 2:\n",
    "        return False\n",
    "    for i in range(2, int(number ** 0.5) + 1):\n",
    "        if number % i == 0:\n",
    "            return False\n",
    "    return True\n",
    "\n",
    "def print_prime_numbers(limit):\n",
    "    print(\"Prime numbers:\")\n",
    "    for number in range(2, limit+1):\n",
    "        if is_prime(number):\n",
    "            print(number)\n",
    "\n",
    "# Prompt the user for a positive integer\n",
    "limit = int(input(\"Enter a positive integer: \"))\n",
    "\n",
    "# Call the function to print prime numbers\n",
    "print_prime_numbers(limit)\n"
   ]
  },
  {
   "cell_type": "code",
   "execution_count": null,
   "id": "2e590afc-5bc7-4170-8c5f-7fa1b2520998",
   "metadata": {},
   "outputs": [],
   "source": [
    "# Q6. Write a program that prompts the user to enter a password until the correct password is entered \n",
    "# using a while loop\n",
    "\n",
    "correct_password = 1234\n",
    "\n",
    "correct = int(input(\"Enter the password\")\n",
    "              \n",
    "    while correct_password != correct:\n",
    "              print(\"The password is not  correct\")\n",
    "              correct = input (\"Enter the password\")\n",
    "\n",
    "    \n",
    "print(\"Access the Grant\")"
   ]
  },
  {
   "cell_type": "code",
   "execution_count": null,
   "id": "60a7ed71-cf56-45c5-a9c7-42664bdccc7d",
   "metadata": {},
   "outputs": [],
   "source": [
    "# Q7. Write a program that takes a list of strings and prints out each string in reverse order using a while \n",
    "# loop\n",
    "\n",
    "strings = []  # List of strings\n",
    "\n",
    "# Input strings from the user\n",
    "print(\"Enter strings (enter 'done' to finish):\")\n",
    "while True:\n",
    "    string = input()\n",
    "    if string == \"done\":\n",
    "        break\n",
    "    strings.append(string)\n",
    "\n",
    "# Print strings in reverse order\n",
    "print(\"Strings in reverse order:\")\n",
    "index = len(strings) - 1\n",
    "while index >= 0:\n",
    "    print(strings[index][::-1])\n",
    "    index -= 1\n"
   ]
  },
  {
   "cell_type": "code",
   "execution_count": null,
   "id": "c3e761a8-34b6-47f5-a04d-ee30bf6850de",
   "metadata": {},
   "outputs": [],
   "source": [
    "# Q8. Write a program that prompts the user to enter a positive integer and then prints out all the Fibonacci \n",
    "# numbers up to that number using a while loop\n",
    "\n",
    "\n",
    "# Prompt the user to enter a positive integer\n",
    "num = int(input(\"Enter a positive integer: \"))\n",
    "\n",
    "# Initialize the Fibonacci sequence\n",
    "fibonacci_sequence = [0, 1]\n",
    "\n",
    "# Generate Fibonacci numbers up to the input number\n",
    "while fibonacci_sequence[-1] + fibonacci_sequence[-2] <= num:\n",
    "    next_fibonacci = fibonacci_sequence[-1] + fibonacci_sequence[-2]\n",
    "    fibonacci_sequence.append(next_fibonacci)\n",
    "\n",
    "# Print the Fibonacci numbers\n",
    "print(\"Fibonacci numbers up to\", num, \":\")\n",
    "for fibonacci in fibonacci_sequence:\n",
    "    print(fibonacci)\n"
   ]
  },
  {
   "cell_type": "code",
   "execution_count": null,
   "id": "9326ddc2-5df6-4e00-be03-b4607c0b3247",
   "metadata": {},
   "outputs": [],
   "source": [
    "# Q9. Write a program that takes a list of integers as input and returns the product of all the numbers in the \n",
    "# list using a while loop\n",
    "\n",
    "numbers = []  # List of integers\n",
    "\n",
    "# Input integers from the user\n",
    "print(\"Enter integers (enter 'done' to finish):\")\n",
    "while True:\n",
    "    user_input = input()\n",
    "    if user_input == \"done\":\n",
    "        break\n",
    "    try:\n",
    "        number = int(user_input)\n",
    "        numbers.append(number)\n",
    "    except ValueError:\n",
    "        print(\"Invalid input. Please enter an integer or 'done' to finish.\")\n",
    "\n",
    "# Calculate the product of all numbers in the list\n",
    "product = 1\n",
    "index = 0\n",
    "while index < len(numbers):\n",
    "    product *= numbers[index]\n",
    "    index += 1\n",
    "\n",
    "# Print the product\n",
    "print(\"Product of the numbers:\", product)\n"
   ]
  },
  {
   "cell_type": "code",
   "execution_count": null,
   "id": "aedb8603-562b-4643-8cfd-0b9f8eef21ab",
   "metadata": {},
   "outputs": [],
   "source": [
    "# Q10. Write a program that prompts the user to enter a positive integer and then prints out the factorial of \n",
    "# that number using a while loop\n",
    "\n",
    "# Prompt the user to enter a positive integer\n",
    "num = int(input(\"Enter a positive integer: \"))\n",
    "\n",
    "# Check if the input is a positive integer\n",
    "if num < 0:\n",
    "    print(\"Error: Please enter a positive integer.\")\n",
    "else:\n",
    "    factorial = 1\n",
    "    while num > 1:\n",
    "        factorial *= num\n",
    "        num -= 1\n",
    "\n",
    "    print(\"Factorial:\", factorial)\n"
   ]
  },
  {
   "cell_type": "code",
   "execution_count": null,
   "id": "4ef3c226-13a1-49c7-a683-530062645e12",
   "metadata": {},
   "outputs": [],
   "source": []
  }
 ],
 "metadata": {
  "kernelspec": {
   "display_name": "Python 3 (ipykernel)",
   "language": "python",
   "name": "python3"
  },
  "language_info": {
   "codemirror_mode": {
    "name": "ipython",
    "version": 3
   },
   "file_extension": ".py",
   "mimetype": "text/x-python",
   "name": "python",
   "nbconvert_exporter": "python",
   "pygments_lexer": "ipython3",
   "version": "3.10.8"
  }
 },
 "nbformat": 4,
 "nbformat_minor": 5
}
